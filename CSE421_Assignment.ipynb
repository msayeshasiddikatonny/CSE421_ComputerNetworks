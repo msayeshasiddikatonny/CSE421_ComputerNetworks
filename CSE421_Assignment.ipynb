{
  "nbformat": 4,
  "nbformat_minor": 0,
  "metadata": {
    "colab": {
      "name": "CSE421_Assignment.ipynb",
      "provenance": [],
      "authorship_tag": "ABX9TyMpl3HlXTbjyfSwmUa1N4Xf",
      "include_colab_link": true
    },
    "kernelspec": {
      "name": "python3",
      "display_name": "Python 3"
    },
    "language_info": {
      "name": "python"
    }
  },
  "cells": [
    {
      "cell_type": "markdown",
      "metadata": {
        "id": "view-in-github",
        "colab_type": "text"
      },
      "source": [
        "<a href=\"https://colab.research.google.com/github/msayeshasiddikatonny/CSE421_ComputerNetworks/blob/main/CSE421_Assignment.ipynb\" target=\"_parent\"><img src=\"https://colab.research.google.com/assets/colab-badge.svg\" alt=\"Open In Colab\"/></a>"
      ]
    },
    {
      "cell_type": "code",
      "execution_count": null,
      "metadata": {
        "id": "94ppYtmhT2jp",
        "outputId": "2d0fcd57-b58c-4830-c90d-962b9dbaec9e",
        "colab": {
          "base_uri": "https://localhost:8080/"
        }
      },
      "outputs": [
        {
          "output_type": "stream",
          "name": "stdout",
          "text": [
            "Vertex \tDistance from Source\n",
            "0 \t 9\n",
            "1 \t 31\n",
            "2 \t 0\n",
            "3 \t 4\n",
            "4 \t 37\n",
            "5 \t 42\n",
            "6 \t 55\n",
            "7 \t 53\n",
            "8 \t 34\n"
          ]
        }
      ],
      "source": [
        "import sys\n",
        "\n",
        "class Graph():\n",
        "\n",
        "\tdef __init__(self, vertices):\n",
        "\t\tself.V = vertices\n",
        "\t\tself.graph = [[0 for column in range(vertices)]\n",
        "\t\t\t\t\tfor row in range(vertices)]\n",
        "\n",
        "\tdef printSolution(self, dist):\n",
        "\t\tprint(\"Vertex \\tDistance from Source\")\n",
        "\t\tfor node in range(self.V):\n",
        "\t\t\tprint(node, \"\\t\", dist[node])\n",
        "\n",
        "\t# A utility function to find the vertex with\n",
        "\t# minimum distance value, from the set of vertices\n",
        "\t# not yet included in shortest path tree\n",
        "\tdef minDistance(self, dist, sptSet):\n",
        "\n",
        "\t\t# Initialize minimum distance for next node\n",
        "\t\tmin = sys.maxsize\n",
        "\n",
        "\t\t# Search not nearest vertex not in the\n",
        "\t\t# shortest path tree\n",
        "\t\tfor u in range(self.V):\n",
        "\t\t\tif dist[u] < min and sptSet[u] == False:\n",
        "\t\t\t\tmin = dist[u]\n",
        "\t\t\t\tmin_index = u\n",
        "\n",
        "\t\treturn min_index\n",
        "\n",
        "\t# Function that implements Dijkstra's single source\n",
        "\t# shortest path algorithm for a graph represented\n",
        "\t# using adjacency matrix representation\n",
        "\tdef dijkstra(self, src):\n",
        "\n",
        "\t\tdist = [sys.maxsize] * self.V\n",
        "\t\tdist[src] = 0\n",
        "\t\tsptSet = [False] * self.V\n",
        "\n",
        "\t\tfor cout in range(self.V):\n",
        "\n",
        "\t\t\t# Pick the minimum distance vertex from\n",
        "\t\t\t# the set of vertices not yet processed.\n",
        "\t\t\t# x is always equal to src in first iteration\n",
        "\t\t\tx = self.minDistance(dist, sptSet)\n",
        "\n",
        "\t\t\t# Put the minimum distance vertex in the\n",
        "\t\t\t# shortest path tree\n",
        "\t\t\tsptSet[x] = True\n",
        "\n",
        "\t\t\t# Update dist value of the adjacent vertices\n",
        "\t\t\t# of the picked vertex only if the current\n",
        "\t\t\t# distance is greater than new distance and\n",
        "\t\t\t# the vertex in not in the shortest path tree\n",
        "\t\t\tfor y in range(self.V):\n",
        "\t\t\t\tif self.graph[x][y] > 0 and sptSet[y] == False and \\\n",
        "\t\t\t\tdist[y] > dist[x] + self.graph[x][y]:\n",
        "\t\t\t\t\t\tdist[y] = dist[x] + self.graph[x][y]\n",
        "\n",
        "\t\tself.printSolution(dist)\n",
        "\n",
        "# Driver program\n",
        "g = Graph(9)\n",
        "g.graph = [[0, 22, 9, 12, 0, 0, 0, 0, 0],\n",
        "\t\t[22, 0, 35, 0, 0, 36, 0, 34, 0],\n",
        "\t\t[9, 35, 0, 4, 65, 42, 0, 0, 0],\n",
        "\t\t[12, 0, 4, 0, 33, 0, 0, 0, 30],\n",
        "\t\t[0, 0, 65, 33, 0, 18, 23, 0, 0],\n",
        "\t\t[0, 36, 42, 0, 18, 0, 39, 24, 0],\n",
        "\t\t[0, 0, 0, 0, 23, 39, 0, 25, 21],\n",
        "\t\t[0, 34, 0, 0, 0, 24, 25, 0, 19],\n",
        "\t\t[0, 0, 0, 30, 0, 0, 21, 19, 0]\n",
        "\t\t];\n",
        "\n",
        "g.dijkstra(2);"
      ]
    }
  ]
}